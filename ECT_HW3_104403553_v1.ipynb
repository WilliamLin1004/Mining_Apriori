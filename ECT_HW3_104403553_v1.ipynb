{
  "nbformat": 4,
  "nbformat_minor": 0,
  "metadata": {
    "colab": {
      "name": "ECT_HW3_104403553_v1.ipynb",
      "version": "0.3.2",
      "provenance": [],
      "collapsed_sections": [],
      "toc_visible": true
    },
    "kernelspec": {
      "name": "python3",
      "display_name": "Python 3"
    }
  },
  "cells": [
    {
      "metadata": {
        "id": "OpmNE5F7EIz_",
        "colab_type": "text"
      },
      "cell_type": "markdown",
      "source": [
        "安裝efficient-apriori 用colab做的"
      ]
    },
    {
      "metadata": {
        "id": "eT4vnpV5JhyN",
        "colab_type": "code",
        "outputId": "865874ca-6c3a-4ec1-dccd-f1f07ef5d5cc",
        "colab": {
          "base_uri": "https://localhost:8080/",
          "height": 241
        }
      },
      "cell_type": "code",
      "source": [
        "!pip install apyori\n",
        "!pip install efficient-apriori"
      ],
      "execution_count": 1,
      "outputs": [
        {
          "output_type": "stream",
          "text": [
            "Collecting apyori\n",
            "  Downloading https://files.pythonhosted.org/packages/25/fd/0561e2dd29aeed544bad2d1991636e38700cdaef9530490b863741f35295/apyori-1.1.1.tar.gz\n",
            "Building wheels for collected packages: apyori\n",
            "  Building wheel for apyori (setup.py) ... \u001b[?25ldone\n",
            "\u001b[?25h  Stored in directory: /root/.cache/pip/wheels/7b/2a/35/c0c3749c1a36d4f454ea22d8396e1b854b86340d63cbbb7949\n",
            "Successfully built apyori\n",
            "Installing collected packages: apyori\n",
            "Successfully installed apyori-1.1.1\n",
            "Collecting efficient-apriori\n",
            "  Downloading https://files.pythonhosted.org/packages/13/ab/a8def875902610558395242a147b8490372f031561902c534ebbf5db14ca/efficient_apriori-0.4.5-py3-none-any.whl\n",
            "Installing collected packages: efficient-apriori\n",
            "Successfully installed efficient-apriori-0.4.5\n"
          ],
          "name": "stdout"
        }
      ]
    },
    {
      "metadata": {
        "id": "fUwXA18vEQzC",
        "colab_type": "text"
      },
      "cell_type": "markdown",
      "source": [
        "唯一有用到的就是 efficient_apriori"
      ]
    },
    {
      "metadata": {
        "id": "lN3yOVIrhoHX",
        "colab_type": "code",
        "colab": {}
      },
      "cell_type": "code",
      "source": [
        "import pandas as pd\n",
        "from efficient_apriori import apriori\n",
        "from efficient_apriori import itemsets_from_transactions, generate_rules_apriori\n",
        "import apyori"
      ],
      "execution_count": 0,
      "outputs": []
    },
    {
      "metadata": {
        "id": "rC3WgSJC9inO",
        "colab_type": "text"
      },
      "cell_type": "markdown",
      "source": [
        "# **Implementation using Apyori**\n",
        "不會動"
      ]
    },
    {
      "metadata": {
        "id": "wE2eoN3l3fD-",
        "colab_type": "code",
        "outputId": "3af395a0-030b-4763-d268-0fe4e9f96a80",
        "colab": {
          "base_uri": "https://localhost:8080/",
          "height": 187
        }
      },
      "cell_type": "code",
      "source": [
        "data = pd.read_csv('CreditCardPromotion.csv')\n",
        "print(data)"
      ],
      "execution_count": 3,
      "outputs": [
        {
          "output_type": "stream",
          "text": [
            "    1  40-50000  MYes   CNo    Male\n",
            "0   2  30-40000  MYes   CNo  Female\n",
            "1   3  40-50000   MNo   CNo    Male\n",
            "2   4  20-30000  MYes  CYes    Male\n",
            "3   5  50-60000  MYes   CNo  Female\n",
            "4   6  20-30000   MNo   CNo  Female\n",
            "5   7  30-40000  MYes  CYes    Male\n",
            "6   8  20-30000   MNo   CNo    Male\n",
            "7   9  30-40000  MYes   CNo    Male\n",
            "8  10  30-40000  MYes   CNo  Female\n"
          ],
          "name": "stdout"
        }
      ]
    },
    {
      "metadata": {
        "id": "3LpjngbK9djR",
        "colab_type": "code",
        "outputId": "01b72d64-fbf4-4fcf-ca00-a7d2701ad226",
        "colab": {
          "base_uri": "https://localhost:8080/",
          "height": 204
        }
      },
      "cell_type": "code",
      "source": [
        "apy_data = pd.read_csv('CreditCardPromotion.csv', header=None) \n",
        "print(apy_data)\n"
      ],
      "execution_count": 4,
      "outputs": [
        {
          "output_type": "stream",
          "text": [
            "    0         1     2     3       4\n",
            "0   1  40-50000  MYes   CNo    Male\n",
            "1   2  30-40000  MYes   CNo  Female\n",
            "2   3  40-50000   MNo   CNo    Male\n",
            "3   4  20-30000  MYes  CYes    Male\n",
            "4   5  50-60000  MYes   CNo  Female\n",
            "5   6  20-30000   MNo   CNo  Female\n",
            "6   7  30-40000  MYes  CYes    Male\n",
            "7   8  20-30000   MNo   CNo    Male\n",
            "8   9  30-40000  MYes   CNo    Male\n",
            "9  10  30-40000  MYes   CNo  Female\n"
          ],
          "name": "stdout"
        }
      ]
    },
    {
      "metadata": {
        "id": "60BYS3p8-jEv",
        "colab_type": "code",
        "outputId": "50e0e18a-ae8c-49b6-b179-0c84df6e1d68",
        "colab": {
          "base_uri": "https://localhost:8080/",
          "height": 187
        }
      },
      "cell_type": "code",
      "source": [
        "apy_data.values.tolist()"
      ],
      "execution_count": 5,
      "outputs": [
        {
          "output_type": "execute_result",
          "data": {
            "text/plain": [
              "[[1, '40-50000', 'MYes', 'CNo', 'Male'],\n",
              " [2, '30-40000', 'MYes', 'CNo', 'Female'],\n",
              " [3, '40-50000', 'MNo', 'CNo', 'Male'],\n",
              " [4, '20-30000', 'MYes', 'CYes', 'Male'],\n",
              " [5, '50-60000', 'MYes', 'CNo', 'Female'],\n",
              " [6, '20-30000', 'MNo', 'CNo', 'Female'],\n",
              " [7, '30-40000', 'MYes', 'CYes', 'Male'],\n",
              " [8, '20-30000', 'MNo', 'CNo', 'Male'],\n",
              " [9, '30-40000', 'MYes', 'CNo', 'Male'],\n",
              " [10, '30-40000', 'MYes', 'CNo', 'Female']]"
            ]
          },
          "metadata": {
            "tags": []
          },
          "execution_count": 5
        }
      ]
    },
    {
      "metadata": {
        "id": "AjNO0bQ2MXBH",
        "colab_type": "code",
        "colab": {}
      },
      "cell_type": "code",
      "source": [
        "#from apyori import load_transactions, apriori\n",
        "\n",
        "#with open('CreditCardPromotion.csv') as f:\n",
        "   # transactions = apyori.load_transactions(f)\n",
        "   # results = list(apriori(transactions)"
      ],
      "execution_count": 0,
      "outputs": []
    },
    {
      "metadata": {
        "id": "309EL_Xd_ws0",
        "colab_type": "code",
        "outputId": "cdf9fc51-9dfe-4525-bb93-7140d3eedb7f",
        "colab": {
          "base_uri": "https://localhost:8080/",
          "height": 727
        }
      },
      "cell_type": "code",
      "source": [
        "association_rules = (list(apyori.apriori(apy_data, min_support=0.9, min_confidence=0.2, min_lift=3, min_length=2)))\n",
        "\n",
        "print(association_rules)\n",
        "\n",
        "#association_results = list(association_rules)"
      ],
      "execution_count": 7,
      "outputs": [
        {
          "output_type": "error",
          "ename": "TypeError",
          "evalue": "ignored",
          "traceback": [
            "\u001b[0;31m---------------------------------------------------------------------------\u001b[0m",
            "\u001b[0;31mTypeError\u001b[0m                                 Traceback (most recent call last)",
            "\u001b[0;32m<ipython-input-7-24373908fea0>\u001b[0m in \u001b[0;36m<module>\u001b[0;34m()\u001b[0m\n\u001b[0;32m----> 1\u001b[0;31m \u001b[0massociation_rules\u001b[0m \u001b[0;34m=\u001b[0m \u001b[0;34m(\u001b[0m\u001b[0mlist\u001b[0m\u001b[0;34m(\u001b[0m\u001b[0mapyori\u001b[0m\u001b[0;34m.\u001b[0m\u001b[0mapriori\u001b[0m\u001b[0;34m(\u001b[0m\u001b[0mapy_data\u001b[0m\u001b[0;34m,\u001b[0m \u001b[0mmin_support\u001b[0m\u001b[0;34m=\u001b[0m\u001b[0;36m0.9\u001b[0m\u001b[0;34m,\u001b[0m \u001b[0mmin_confidence\u001b[0m\u001b[0;34m=\u001b[0m\u001b[0;36m0.2\u001b[0m\u001b[0;34m,\u001b[0m \u001b[0mmin_lift\u001b[0m\u001b[0;34m=\u001b[0m\u001b[0;36m3\u001b[0m\u001b[0;34m,\u001b[0m \u001b[0mmin_length\u001b[0m\u001b[0;34m=\u001b[0m\u001b[0;36m2\u001b[0m\u001b[0;34m)\u001b[0m\u001b[0;34m)\u001b[0m\u001b[0;34m)\u001b[0m\u001b[0;34m\u001b[0m\u001b[0;34m\u001b[0m\u001b[0m\n\u001b[0m\u001b[1;32m      2\u001b[0m \u001b[0;34m\u001b[0m\u001b[0m\n\u001b[1;32m      3\u001b[0m \u001b[0mprint\u001b[0m\u001b[0;34m(\u001b[0m\u001b[0massociation_rules\u001b[0m\u001b[0;34m)\u001b[0m\u001b[0;34m\u001b[0m\u001b[0;34m\u001b[0m\u001b[0m\n\u001b[1;32m      4\u001b[0m \u001b[0;34m\u001b[0m\u001b[0m\n\u001b[1;32m      5\u001b[0m \u001b[0;31m#association_results = list(association_rules)\u001b[0m\u001b[0;34m\u001b[0m\u001b[0;34m\u001b[0m\u001b[0;34m\u001b[0m\u001b[0m\n",
            "\u001b[0;32m/usr/local/lib/python3.6/dist-packages/apyori.py\u001b[0m in \u001b[0;36mapriori\u001b[0;34m(transactions, **kwargs)\u001b[0m\n\u001b[1;32m    281\u001b[0m \u001b[0;34m\u001b[0m\u001b[0m\n\u001b[1;32m    282\u001b[0m     \u001b[0;31m# Calculate supports.\u001b[0m\u001b[0;34m\u001b[0m\u001b[0;34m\u001b[0m\u001b[0;34m\u001b[0m\u001b[0m\n\u001b[0;32m--> 283\u001b[0;31m     \u001b[0mtransaction_manager\u001b[0m \u001b[0;34m=\u001b[0m \u001b[0mTransactionManager\u001b[0m\u001b[0;34m.\u001b[0m\u001b[0mcreate\u001b[0m\u001b[0;34m(\u001b[0m\u001b[0mtransactions\u001b[0m\u001b[0;34m)\u001b[0m\u001b[0;34m\u001b[0m\u001b[0;34m\u001b[0m\u001b[0m\n\u001b[0m\u001b[1;32m    284\u001b[0m     support_records = _gen_support_records(\n\u001b[1;32m    285\u001b[0m         transaction_manager, min_support, max_length=max_length)\n",
            "\u001b[0;32m/usr/local/lib/python3.6/dist-packages/apyori.py\u001b[0m in \u001b[0;36mcreate\u001b[0;34m(transactions)\u001b[0m\n\u001b[1;32m    119\u001b[0m         \u001b[0;32mif\u001b[0m \u001b[0misinstance\u001b[0m\u001b[0;34m(\u001b[0m\u001b[0mtransactions\u001b[0m\u001b[0;34m,\u001b[0m \u001b[0mTransactionManager\u001b[0m\u001b[0;34m)\u001b[0m\u001b[0;34m:\u001b[0m\u001b[0;34m\u001b[0m\u001b[0;34m\u001b[0m\u001b[0m\n\u001b[1;32m    120\u001b[0m             \u001b[0;32mreturn\u001b[0m \u001b[0mtransactions\u001b[0m\u001b[0;34m\u001b[0m\u001b[0;34m\u001b[0m\u001b[0m\n\u001b[0;32m--> 121\u001b[0;31m         \u001b[0;32mreturn\u001b[0m \u001b[0mTransactionManager\u001b[0m\u001b[0;34m(\u001b[0m\u001b[0mtransactions\u001b[0m\u001b[0;34m)\u001b[0m\u001b[0;34m\u001b[0m\u001b[0;34m\u001b[0m\u001b[0m\n\u001b[0m\u001b[1;32m    122\u001b[0m \u001b[0;34m\u001b[0m\u001b[0m\n\u001b[1;32m    123\u001b[0m \u001b[0;34m\u001b[0m\u001b[0m\n",
            "\u001b[0;32m/usr/local/lib/python3.6/dist-packages/apyori.py\u001b[0m in \u001b[0;36m__init__\u001b[0;34m(self, transactions)\u001b[0m\n\u001b[1;32m     42\u001b[0m \u001b[0;34m\u001b[0m\u001b[0m\n\u001b[1;32m     43\u001b[0m         \u001b[0;32mfor\u001b[0m \u001b[0mtransaction\u001b[0m \u001b[0;32min\u001b[0m \u001b[0mtransactions\u001b[0m\u001b[0;34m:\u001b[0m\u001b[0;34m\u001b[0m\u001b[0;34m\u001b[0m\u001b[0m\n\u001b[0;32m---> 44\u001b[0;31m             \u001b[0mself\u001b[0m\u001b[0;34m.\u001b[0m\u001b[0madd_transaction\u001b[0m\u001b[0;34m(\u001b[0m\u001b[0mtransaction\u001b[0m\u001b[0;34m)\u001b[0m\u001b[0;34m\u001b[0m\u001b[0;34m\u001b[0m\u001b[0m\n\u001b[0m\u001b[1;32m     45\u001b[0m \u001b[0;34m\u001b[0m\u001b[0m\n\u001b[1;32m     46\u001b[0m     \u001b[0;32mdef\u001b[0m \u001b[0madd_transaction\u001b[0m\u001b[0;34m(\u001b[0m\u001b[0mself\u001b[0m\u001b[0;34m,\u001b[0m \u001b[0mtransaction\u001b[0m\u001b[0;34m)\u001b[0m\u001b[0;34m:\u001b[0m\u001b[0;34m\u001b[0m\u001b[0;34m\u001b[0m\u001b[0m\n",
            "\u001b[0;32m/usr/local/lib/python3.6/dist-packages/apyori.py\u001b[0m in \u001b[0;36madd_transaction\u001b[0;34m(self, transaction)\u001b[0m\n\u001b[1;32m     51\u001b[0m             \u001b[0mtransaction\u001b[0m \u001b[0;34m-\u001b[0m\u001b[0;34m-\u001b[0m \u001b[0mA\u001b[0m \u001b[0mtransaction\u001b[0m \u001b[0;32mas\u001b[0m \u001b[0man\u001b[0m \u001b[0miterable\u001b[0m \u001b[0mobject\u001b[0m \u001b[0;34m(\u001b[0m\u001b[0meg\u001b[0m\u001b[0;34m.\u001b[0m \u001b[0;34m[\u001b[0m\u001b[0;34m'A'\u001b[0m\u001b[0;34m,\u001b[0m \u001b[0;34m'B'\u001b[0m\u001b[0;34m]\u001b[0m\u001b[0;34m)\u001b[0m\u001b[0;34m.\u001b[0m\u001b[0;34m\u001b[0m\u001b[0;34m\u001b[0m\u001b[0m\n\u001b[1;32m     52\u001b[0m         \"\"\"\n\u001b[0;32m---> 53\u001b[0;31m         \u001b[0;32mfor\u001b[0m \u001b[0mitem\u001b[0m \u001b[0;32min\u001b[0m \u001b[0mtransaction\u001b[0m\u001b[0;34m:\u001b[0m\u001b[0;34m\u001b[0m\u001b[0;34m\u001b[0m\u001b[0m\n\u001b[0m\u001b[1;32m     54\u001b[0m             \u001b[0;32mif\u001b[0m \u001b[0mitem\u001b[0m \u001b[0;32mnot\u001b[0m \u001b[0;32min\u001b[0m \u001b[0mself\u001b[0m\u001b[0;34m.\u001b[0m\u001b[0m__transaction_index_map\u001b[0m\u001b[0;34m:\u001b[0m\u001b[0;34m\u001b[0m\u001b[0;34m\u001b[0m\u001b[0m\n\u001b[1;32m     55\u001b[0m                 \u001b[0mself\u001b[0m\u001b[0;34m.\u001b[0m\u001b[0m__items\u001b[0m\u001b[0;34m.\u001b[0m\u001b[0mappend\u001b[0m\u001b[0;34m(\u001b[0m\u001b[0mitem\u001b[0m\u001b[0;34m)\u001b[0m\u001b[0;34m\u001b[0m\u001b[0;34m\u001b[0m\u001b[0m\n",
            "\u001b[0;31mTypeError\u001b[0m: 'int' object is not iterable"
          ]
        }
      ]
    },
    {
      "metadata": {
        "id": "Z-k1L1GD9Ylh",
        "colab_type": "text"
      },
      "cell_type": "markdown",
      "source": [
        "# implementation using efficient_**apriori**\n",
        "將csv擋讀近來，然後套到apriori的function裡面<br>\n",
        "需要註明min_support跟min_confidence\n",
        "下一步在印出來"
      ]
    },
    {
      "metadata": {
        "id": "mpLeQ9e3kYjg",
        "colab_type": "code",
        "outputId": "15a2ac73-81d0-4892-93c2-f35dc9069f83",
        "colab": {
          "base_uri": "https://localhost:8080/",
          "height": 615
        }
      },
      "cell_type": "code",
      "source": [
        "def data_generator(filename):\n",
        "  \n",
        "  def data_gen():\n",
        "    with open(filename) as file:\n",
        "      for line in file:\n",
        "        yield tuple(k.strip() for k in line.split(',')) \n",
        "  \n",
        "  return data_gen\n",
        "\n",
        "\n",
        "\n",
        "csvfile_processed = data_generator('CreditCardPromotion.csv')\n",
        "itemsets, rules = apriori(csvfile_processed, min_support=0.2, min_confidence=0.9,verbosity =2)\n",
        "#itemsets,_ = itemsets_from_transactions(csvfile_processed,min_support=0.2)\n",
        "#print(itemsets)\n",
        "#list(generate_rules_apriori(itemsets, 1.0, 10))"
      ],
      "execution_count": 8,
      "outputs": [
        {
          "output_type": "stream",
          "text": [
            "Generating itemsets.\n",
            " Counting itemsets of length 1.\n",
            "  Found 20 candidate itemsets of length 1.\n",
            "  Found 9 large itemsets of length 1.\n",
            "    [('40-50000',), ('MYes',), ('CNo',), ('Male',), ('30-40000',), ('Female',), ('MNo',), ('20-30000',), ('CYes',)]\n",
            " Counting itemsets of length 2.\n",
            "  Found 36 candidate itemsets of length 2.\n",
            "   [('20-30000', '30-40000'), ('20-30000', '40-50000'), ('20-30000', 'CNo'), ('20-30000', 'CYes'), ('20-30000', 'Female'), ('20-30000', 'MNo'), ('20-30000', 'MYes'), ('20-30000', 'Male'), ('30-40000', '40-50000'), ('30-40000', 'CNo'), ('30-40000', 'CYes'), ('30-40000', 'Female'), ('30-40000', 'MNo'), ('30-40000', 'MYes'), ('30-40000', 'Male'), ('40-50000', 'CNo'), ('40-50000', 'CYes'), ('40-50000', 'Female'), ('40-50000', 'MNo'), ('40-50000', 'MYes'), ('40-50000', 'Male'), ('CNo', 'CYes'), ('CNo', 'Female'), ('CNo', 'MNo'), ('CNo', 'MYes'), ('CNo', 'Male'), ('CYes', 'Female'), ('CYes', 'MNo'), ('CYes', 'MYes'), ('CYes', 'Male'), ('Female', 'MNo'), ('Female', 'MYes'), ('Female', 'Male'), ('MNo', 'MYes'), ('MNo', 'Male'), ('MYes', 'Male')]\n",
            "    Iterating over transactions.\n",
            "  Found 18 large itemsets of length 2.\n",
            "   [('20-30000', 'CNo'), ('20-30000', 'MNo'), ('20-30000', 'Male'), ('30-40000', 'CNo'), ('30-40000', 'Female'), ('30-40000', 'MYes'), ('30-40000', 'Male'), ('40-50000', 'CNo'), ('40-50000', 'Male'), ('CNo', 'Female'), ('CNo', 'MNo'), ('CNo', 'MYes'), ('CNo', 'Male'), ('CYes', 'MYes'), ('CYes', 'Male'), ('Female', 'MYes'), ('MNo', 'Male'), ('MYes', 'Male')]\n",
            " Counting itemsets of length 3.\n",
            "  Found 13 candidate itemsets of length 3.\n",
            "   [('20-30000', 'CNo', 'MNo'), ('20-30000', 'CNo', 'Male'), ('20-30000', 'MNo', 'Male'), ('30-40000', 'CNo', 'Female'), ('30-40000', 'CNo', 'MYes'), ('30-40000', 'CNo', 'Male'), ('30-40000', 'Female', 'MYes'), ('30-40000', 'MYes', 'Male'), ('40-50000', 'CNo', 'Male'), ('CNo', 'Female', 'MYes'), ('CNo', 'MNo', 'Male'), ('CNo', 'MYes', 'Male'), ('CYes', 'MYes', 'Male')]\n",
            "    Iterating over transactions.\n",
            "  Found 10 large itemsets of length 3.\n",
            "   [('20-30000', 'CNo', 'MNo'), ('30-40000', 'CNo', 'Female'), ('30-40000', 'CNo', 'MYes'), ('30-40000', 'Female', 'MYes'), ('30-40000', 'MYes', 'Male'), ('40-50000', 'CNo', 'Male'), ('CNo', 'Female', 'MYes'), ('CNo', 'MNo', 'Male'), ('CNo', 'MYes', 'Male'), ('CYes', 'MYes', 'Male')]\n",
            " Counting itemsets of length 4.\n",
            "  Found 1 candidate itemsets of length 4.\n",
            "   [('30-40000', 'CNo', 'Female', 'MYes')]\n",
            "    Iterating over transactions.\n",
            "  Found 1 large itemsets of length 4.\n",
            "   [('30-40000', 'CNo', 'Female', 'MYes')]\n",
            " Counting itemsets of length 5.\n",
            "  Found 0 candidate itemsets of length 5.\n",
            "   []\n",
            "Itemset generation terminated.\n",
            "\n",
            "Generating rules from itemsets.\n",
            " Generating rules of size 2.\n",
            " Generating rules of size 3.\n",
            " Generating rules of size 4.\n",
            "Rule generation terminated.\n",
            "\n"
          ],
          "name": "stdout"
        }
      ]
    },
    {
      "metadata": {
        "id": "BL8QEUthnNMb",
        "colab_type": "code",
        "outputId": "efb6066a-6268-45ca-a230-d710a4d36ece",
        "colab": {
          "base_uri": "https://localhost:8080/",
          "height": 54
        }
      },
      "cell_type": "code",
      "source": [
        "print(itemsets)"
      ],
      "execution_count": 9,
      "outputs": [
        {
          "output_type": "stream",
          "text": [
            "{1: {('20-30000',): 3, ('30-40000',): 4, ('40-50000',): 2, ('CNo',): 8, ('CYes',): 2, ('Female',): 4, ('MNo',): 3, ('MYes',): 7, ('Male',): 6}, 2: {('20-30000', 'CNo'): 2, ('20-30000', 'MNo'): 2, ('20-30000', 'Male'): 2, ('30-40000', 'CNo'): 3, ('30-40000', 'Female'): 2, ('30-40000', 'MYes'): 4, ('30-40000', 'Male'): 2, ('40-50000', 'CNo'): 2, ('40-50000', 'Male'): 2, ('CNo', 'Female'): 4, ('CNo', 'MNo'): 3, ('CNo', 'MYes'): 5, ('CNo', 'Male'): 4, ('CYes', 'MYes'): 2, ('CYes', 'Male'): 2, ('Female', 'MYes'): 3, ('MNo', 'Male'): 2, ('MYes', 'Male'): 4}, 3: {('20-30000', 'CNo', 'MNo'): 2, ('30-40000', 'CNo', 'Female'): 2, ('30-40000', 'CNo', 'MYes'): 3, ('30-40000', 'Female', 'MYes'): 2, ('30-40000', 'MYes', 'Male'): 2, ('40-50000', 'CNo', 'Male'): 2, ('CNo', 'Female', 'MYes'): 3, ('CNo', 'MNo', 'Male'): 2, ('CNo', 'MYes', 'Male'): 2, ('CYes', 'MYes', 'Male'): 2}, 4: {('30-40000', 'CNo', 'Female', 'MYes'): 2}}\n"
          ],
          "name": "stdout"
        }
      ]
    },
    {
      "metadata": {
        "id": "__fRMOGTpXIl",
        "colab_type": "code",
        "outputId": "3e6a9fa4-b7cb-4bc1-ada5-9ad03130c79b",
        "colab": {
          "base_uri": "https://localhost:8080/",
          "height": 54
        }
      },
      "cell_type": "code",
      "source": [
        "print(rules)"
      ],
      "execution_count": 10,
      "outputs": [
        {
          "output_type": "stream",
          "text": [
            "[{30-40000} -> {MYes}, {40-50000} -> {CNo}, {40-50000} -> {Male}, {Female} -> {CNo}, {MNo} -> {CNo}, {CYes} -> {MYes}, {CYes} -> {Male}, {20-30000, MNo} -> {CNo}, {20-30000, CNo} -> {MNo}, {30-40000, Female} -> {CNo}, {30-40000, CNo} -> {MYes}, {30-40000, Female} -> {MYes}, {30-40000, Male} -> {MYes}, {40-50000, Male} -> {CNo}, {40-50000, CNo} -> {Male}, {40-50000} -> {CNo, Male}, {Female, MYes} -> {CNo}, {MNo, Male} -> {CNo}, {CYes, Male} -> {MYes}, {CYes, MYes} -> {Male}, {CYes} -> {MYes, Male}, {30-40000, Female, MYes} -> {CNo}, {30-40000, CNo, Female} -> {MYes}, {30-40000, Female} -> {CNo, MYes}]\n"
          ],
          "name": "stdout"
        }
      ]
    },
    {
      "metadata": {
        "id": "p98tzAIIpbCw",
        "colab_type": "code",
        "colab": {}
      },
      "cell_type": "code",
      "source": [
        ""
      ],
      "execution_count": 0,
      "outputs": []
    },
    {
      "metadata": {
        "id": "6leEU1Yyqvcy",
        "colab_type": "code",
        "colab": {}
      },
      "cell_type": "code",
      "source": [
        ""
      ],
      "execution_count": 0,
      "outputs": []
    }
  ]
}